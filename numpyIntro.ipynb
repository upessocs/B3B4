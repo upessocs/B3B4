{
 "cells": [
  {
   "cell_type": "code",
   "execution_count": 5,
   "id": "539f5fbe-8516-4674-a145-035de36e7a6e",
   "metadata": {},
   "outputs": [],
   "source": [
    "%%capture\n",
    "\n",
    "!pip install numpy\n",
    "!pip install matplotlib\n",
    "# import matplotlib as mpl"
   ]
  },
  {
   "cell_type": "code",
   "execution_count": 6,
   "id": "843585c9-2b2c-4e77-89eb-31f648eea0c3",
   "metadata": {},
   "outputs": [],
   "source": [
    "import numpy as np"
   ]
  },
  {
   "cell_type": "code",
   "execution_count": 12,
   "id": "9524f278-8cd4-4d21-91dd-46c7ead696df",
   "metadata": {},
   "outputs": [
    {
     "name": "stdout",
     "output_type": "stream",
     "text": [
      "[1, 2, 3]\n",
      "[1 2 3]\n"
     ]
    }
   ],
   "source": [
    "a = [1,2,3]\n",
    "\n",
    "A = np.array(a)\n",
    "B = np.array(a, dtype=np.float64)\n",
    "\n",
    "print(a)\n",
    "print(A)\n"
   ]
  },
  {
   "cell_type": "code",
   "execution_count": 13,
   "id": "ab0860d1-13c4-4b1c-b231-141e07976a70",
   "metadata": {},
   "outputs": [
    {
     "data": {
      "text/plain": [
       "(dtype('int64'), dtype('float64'))"
      ]
     },
     "execution_count": 13,
     "metadata": {},
     "output_type": "execute_result"
    }
   ],
   "source": [
    "A.dtype, B.dtype"
   ]
  },
  {
   "cell_type": "code",
   "execution_count": 17,
   "id": "589e1780-e4a3-4a7a-b3b0-d5774475ea36",
   "metadata": {},
   "outputs": [
    {
     "name": "stdout",
     "output_type": "stream",
     "text": [
      "Addition: [5 7 9]\n",
      "Subtraction: [-3 -3 -3]\n",
      "Multiplication: [ 4 10 18]\n",
      "Division: [0.25 0.4  0.5 ]\n"
     ]
    }
   ],
   "source": [
    "a = np.array([1, 2, 3])\n",
    "b = np.array([4, 5, 6])\n",
    "a\n",
    "print(\"Addition:\", a + b)\n",
    "print(\"Subtraction:\", a - b)\n",
    "print(\"Multiplication:\", a * b)\n",
    "print(\"Division:\", a / b)\n"
   ]
  },
  {
   "cell_type": "code",
   "execution_count": 18,
   "id": "a0771fb0-c985-4804-a7aa-9ed994de925e",
   "metadata": {},
   "outputs": [
    {
     "data": {
      "text/plain": [
       "1"
      ]
     },
     "execution_count": 18,
     "metadata": {},
     "output_type": "execute_result"
    }
   ],
   "source": [
    "a[0]"
   ]
  },
  {
   "cell_type": "code",
   "execution_count": 25,
   "id": "f92a91c4-d13c-4348-9873-8c0b5575bb5d",
   "metadata": {},
   "outputs": [
    {
     "data": {
      "text/plain": [
       "array([ 6,  7,  8,  9, 10, 11, 12, 13, 14, 15])"
      ]
     },
     "execution_count": 25,
     "metadata": {},
     "output_type": "execute_result"
    }
   ],
   "source": [
    "a = range(1,11)\n",
    "A = np.array(a)\n",
    "b = 5e-11\n",
    "A+5"
   ]
  },
  {
   "cell_type": "code",
   "execution_count": 26,
   "id": "7bfaabe3-0fc9-40dc-a25b-989bca4d83d4",
   "metadata": {},
   "outputs": [
    {
     "data": {
      "text/plain": [
       "array([5.0e-11, 1.0e-10, 1.5e-10, 2.0e-10, 2.5e-10, 3.0e-10, 3.5e-10,\n",
       "       4.0e-10, 4.5e-10, 5.0e-10])"
      ]
     },
     "execution_count": 26,
     "metadata": {},
     "output_type": "execute_result"
    }
   ],
   "source": [
    "np.dot(a,b)"
   ]
  },
  {
   "cell_type": "code",
   "execution_count": 28,
   "id": "e8117fc1-1a15-41a5-885c-a85871a3ccd8",
   "metadata": {},
   "outputs": [
    {
     "name": "stdout",
     "output_type": "stream",
     "text": [
      "Element-wise Multiplication:\n",
      " [[ 5 12]\n",
      " [21 32]]\n",
      "dot Multiplication:\n",
      " [[19 22]\n",
      " [43 50]]\n",
      "matrix multiplication:\n",
      " [[19 22]\n",
      " [43 50]]\n"
     ]
    }
   ],
   "source": [
    "A = np.array([[1, 2], [3, 4]])\n",
    "B = np.array([[5, 6], [7, 8]])\n",
    "\n",
    "# Element-wise multiplication\n",
    "print(\"Element-wise Multiplication:\\n\", A * B)\n",
    "\n",
    "# Matrix multiplication (dot product)\n",
    "print(\"dot Multiplication:\\n\", A @ B)\n",
    "\n",
    "#matrix multiplication\n",
    "print(\"matrix multiplication:\\n\",np.matmul(A,B))\n",
    "\n",
    "\n"
   ]
  },
  {
   "cell_type": "code",
   "execution_count": 29,
   "id": "73952e71-a0d3-4358-b4d5-46ed82e19309",
   "metadata": {},
   "outputs": [
    {
     "data": {
      "text/plain": [
       "array([[1, 3],\n",
       "       [2, 4]])"
      ]
     },
     "execution_count": 29,
     "metadata": {},
     "output_type": "execute_result"
    }
   ],
   "source": [
    "A.T"
   ]
  },
  {
   "cell_type": "code",
   "execution_count": 30,
   "id": "86402b01-c0fa-4b39-9105-ff4b510d4e1a",
   "metadata": {},
   "outputs": [
    {
     "name": "stdout",
     "output_type": "stream",
     "text": [
      "Inverse:\n",
      " [[-2.   1. ]\n",
      " [ 1.5 -0.5]]\n"
     ]
    }
   ],
   "source": [
    "from numpy.linalg import inv\n",
    "\n",
    "A = np.array([[1, 2], [3, 4]])\n",
    "print(\"Inverse:\\n\", inv(A))\n"
   ]
  },
  {
   "cell_type": "code",
   "execution_count": 31,
   "id": "ff7f13f8-4e0e-4805-bc1b-c69016d15508",
   "metadata": {},
   "outputs": [
    {
     "data": {
      "text/plain": [
       "array([[0., 0., 0., 0.],\n",
       "       [0., 0., 0., 0.],\n",
       "       [0., 0., 0., 0.]])"
      ]
     },
     "execution_count": 31,
     "metadata": {},
     "output_type": "execute_result"
    }
   ],
   "source": [
    "np.zeros((3, 4))  # 3x4 matrix of zeros\n"
   ]
  },
  {
   "cell_type": "code",
   "execution_count": 32,
   "id": "7373da6a-ed4b-404f-8754-0d2c0c90ace2",
   "metadata": {},
   "outputs": [
    {
     "data": {
      "text/plain": [
       "array([[1., 1., 1., 1.],\n",
       "       [1., 1., 1., 1.],\n",
       "       [1., 1., 1., 1.]])"
      ]
     },
     "execution_count": 32,
     "metadata": {},
     "output_type": "execute_result"
    }
   ],
   "source": [
    "np.ones((3, 4))  # 3x4 matrix of zeros\n"
   ]
  },
  {
   "cell_type": "code",
   "execution_count": 33,
   "id": "02156f66-c338-42d7-ac36-4aa4fdd5f29b",
   "metadata": {},
   "outputs": [
    {
     "data": {
      "text/plain": [
       "array([[1., 0., 0., 0., 0.],\n",
       "       [0., 1., 0., 0., 0.],\n",
       "       [0., 0., 1., 0., 0.],\n",
       "       [0., 0., 0., 1., 0.],\n",
       "       [0., 0., 0., 0., 1.]])"
      ]
     },
     "execution_count": 33,
     "metadata": {},
     "output_type": "execute_result"
    }
   ],
   "source": [
    "np.eye(5)"
   ]
  },
  {
   "cell_type": "code",
   "execution_count": 37,
   "id": "7f56cd74-fd0e-4641-87a8-82633284b4e5",
   "metadata": {},
   "outputs": [
    {
     "data": {
      "text/plain": [
       "array([ 1,  2,  3,  4,  5,  6,  7,  8,  9, 10])"
      ]
     },
     "execution_count": 37,
     "metadata": {},
     "output_type": "execute_result"
    }
   ],
   "source": [
    "a1 = np.arange(1, 11, 1)  # [0, 2, 4, 6, 8]\n",
    "a1"
   ]
  },
  {
   "cell_type": "code",
   "execution_count": 39,
   "id": "7a56f4f8-0630-4723-be46-21ea77d09d22",
   "metadata": {},
   "outputs": [
    {
     "data": {
      "text/plain": [
       "array([0.        , 0.02040816, 0.04081633, 0.06122449, 0.08163265,\n",
       "       0.10204082, 0.12244898, 0.14285714, 0.16326531, 0.18367347,\n",
       "       0.20408163, 0.2244898 , 0.24489796, 0.26530612, 0.28571429,\n",
       "       0.30612245, 0.32653061, 0.34693878, 0.36734694, 0.3877551 ,\n",
       "       0.40816327, 0.42857143, 0.44897959, 0.46938776, 0.48979592,\n",
       "       0.51020408, 0.53061224, 0.55102041, 0.57142857, 0.59183673,\n",
       "       0.6122449 , 0.63265306, 0.65306122, 0.67346939, 0.69387755,\n",
       "       0.71428571, 0.73469388, 0.75510204, 0.7755102 , 0.79591837,\n",
       "       0.81632653, 0.83673469, 0.85714286, 0.87755102, 0.89795918,\n",
       "       0.91836735, 0.93877551, 0.95918367, 0.97959184, 1.        ])"
      ]
     },
     "execution_count": 39,
     "metadata": {},
     "output_type": "execute_result"
    }
   ],
   "source": [
    "np.linspace(0, 1, 50)  # [0.  0.25 0.5  0.75 1. ]\n"
   ]
  },
  {
   "cell_type": "code",
   "execution_count": 46,
   "id": "52f0e6f4-ceb9-4f4f-9ba5-5c386c25f5ed",
   "metadata": {},
   "outputs": [
    {
     "data": {
      "text/plain": [
       "array([[1, 2, 3],\n",
       "       [4, 5, 6]])"
      ]
     },
     "execution_count": 46,
     "metadata": {},
     "output_type": "execute_result"
    }
   ],
   "source": [
    "arr = np.array([1, 2, 3, 4, 5, 6])\n",
    "arr\n",
    "arr2= arr.reshape(2, 3)\n",
    "arr2\n"
   ]
  },
  {
   "cell_type": "code",
   "execution_count": 48,
   "id": "43045a58-df8a-4448-aec7-136514f015ba",
   "metadata": {},
   "outputs": [
    {
     "data": {
      "text/plain": [
       "6"
      ]
     },
     "execution_count": 48,
     "metadata": {},
     "output_type": "execute_result"
    }
   ],
   "source": [
    "arr2.size"
   ]
  },
  {
   "cell_type": "code",
   "execution_count": 52,
   "id": "4bd7249f-5f0c-4f70-8280-e05a4158c11e",
   "metadata": {},
   "outputs": [],
   "source": [
    "arr = np.array([[1, 2], [3, 4]])\n",
    "arr3 = arr.flatten()  # [1, 2, 3, 4]\n",
    "# arr\n"
   ]
  },
  {
   "cell_type": "code",
   "execution_count": 53,
   "id": "0888e8ed-25fb-44dc-aab9-e2810e285821",
   "metadata": {},
   "outputs": [
    {
     "data": {
      "text/plain": [
       "1"
      ]
     },
     "execution_count": 53,
     "metadata": {},
     "output_type": "execute_result"
    }
   ],
   "source": [
    "arr3.ndim"
   ]
  },
  {
   "cell_type": "code",
   "execution_count": 61,
   "id": "1082ac10-b37e-4851-8d65-c788ab07c7ce",
   "metadata": {},
   "outputs": [
    {
     "data": {
      "text/plain": [
       "array([   1,    2,    3, ..., 3598, 3599, 3600])"
      ]
     },
     "execution_count": 61,
     "metadata": {},
     "output_type": "execute_result"
    }
   ],
   "source": [
    "start  = 1\n",
    "end = 3600 #1hour = 60 min = 60 * 60 sec\n",
    "step = 1\n",
    "no_of_points = 3600\n",
    "\n",
    "X = np.arange(start, end+1, step)\n",
    "X"
   ]
  },
  {
   "cell_type": "code",
   "execution_count": 62,
   "id": "47884829-726e-4677-aa12-5340a7e5b01b",
   "metadata": {},
   "outputs": [
    {
     "data": {
      "text/plain": [
       "array([1.000e+00, 2.000e+00, 3.000e+00, ..., 3.598e+03, 3.599e+03,\n",
       "       3.600e+03])"
      ]
     },
     "execution_count": 62,
     "metadata": {},
     "output_type": "execute_result"
    }
   ],
   "source": [
    "X = np.linspace(start, end, no_of_points)\n",
    "X"
   ]
  },
  {
   "cell_type": "markdown",
   "id": "900c1670-a0c2-4b96-96e3-74becdaeb5d6",
   "metadata": {},
   "source": [
    "calculate following expression $$Y = \\sin(2\\pi\\omega X)$$ assume $\\omega=10$"
   ]
  },
  {
   "cell_type": "code",
   "execution_count": 63,
   "id": "f5085ce6-432b-4225-b1a4-b59b0c14954b",
   "metadata": {},
   "outputs": [],
   "source": [
    "omega = 10\n",
    "Y = np.sin(2 * (22/7) * omega * X)"
   ]
  },
  {
   "cell_type": "code",
   "execution_count": 64,
   "id": "c3168257-5122-44b9-addc-d0c9751217b2",
   "metadata": {},
   "outputs": [
    {
     "data": {
      "text/plain": [
       "array([0.02528709, 0.05055801, 0.07579659, ..., 0.11329549, 0.08813499,\n",
       "       0.06291812])"
      ]
     },
     "execution_count": 64,
     "metadata": {},
     "output_type": "execute_result"
    }
   ],
   "source": [
    "Y"
   ]
  },
  {
   "cell_type": "code",
   "execution_count": 69,
   "id": "43d60510-0353-4b4c-8ee3-ce7d72c70e79",
   "metadata": {},
   "outputs": [
    {
     "data": {
      "text/plain": [
       "0.9999999843475006"
      ]
     },
     "execution_count": 69,
     "metadata": {},
     "output_type": "execute_result"
    }
   ],
   "source": [
    "np.max(Y)"
   ]
  },
  {
   "cell_type": "code",
   "execution_count": 70,
   "id": "deaba9fd-78d3-48d4-af76-ba93ab90fc0a",
   "metadata": {},
   "outputs": [],
   "source": [
    "from matplotlib import pyplot as plt"
   ]
  },
  {
   "cell_type": "code",
   "execution_count": 75,
   "id": "7d6c3993-4625-4a30-826c-3ebd9ba4678b",
   "metadata": {},
   "outputs": [
    {
     "data": {
      "image/png": "[encoded data removed]",
      "text/plain": [
       "<Figure size 640x480 with 1 Axes>"
      ]
     },
     "metadata": {},
     "output_type": "display_data"
    }
   ],
   "source": [
    "plt.plot(X,Y)\n",
    "plt.ylabel('Amplitude')\n",
    "plt.xlabel('Time $(s)$')\n",
    "plt.grid()\n",
    "plt.savefig(\"test1.png\")"
   ]
  },
  {
   "cell_type": "code",
   "execution_count": null,
   "id": "d5a2cd1f-e30d-4b51-a5ab-7e09502134f9",
   "metadata": {},
   "outputs": [],
   "source": []
  }
 ],
 "metadata": {
  "kernelspec": {
   "display_name": "Python 3 (ipykernel)",
   "language": "python",
   "name": "python3"
  },
  "language_info": {
   "codemirror_mode": {
    "name": "ipython",
    "version": 3
   },
   "file_extension": ".py",
   "mimetype": "text/x-python",
   "name": "python",
   "nbconvert_exporter": "python",
   "pygments_lexer": "ipython3",
   "version": "3.11.8"
  }
 },
 "nbformat": 4,
 "nbformat_minor": 5
}
